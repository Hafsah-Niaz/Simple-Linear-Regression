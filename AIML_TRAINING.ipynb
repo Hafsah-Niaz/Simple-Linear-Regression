{
  "nbformat": 4,
  "nbformat_minor": 0,
  "metadata": {
    "colab": {
      "provenance": [],
      "authorship_tag": "ABX9TyPi+GcA+bWvSAiUHHhk1KEG",
      "include_colab_link": true
    },
    "kernelspec": {
      "name": "python3",
      "display_name": "Python 3"
    },
    "language_info": {
      "name": "python"
    }
  },
  "cells": [
    {
      "cell_type": "markdown",
      "metadata": {
        "id": "view-in-github",
        "colab_type": "text"
      },
      "source": [
        "<a href=\"https://colab.research.google.com/github/Hafsah-Niaz/Simple-Linear-Regression/blob/main/AIML_TRAINING.ipynb\" target=\"_parent\"><img src=\"https://colab.research.google.com/assets/colab-badge.svg\" alt=\"Open In Colab\"/></a>"
      ]
    },
    {
      "cell_type": "code",
      "execution_count": null,
      "metadata": {
        "id": "S9UCu9pAn4HP"
      },
      "outputs": [],
      "source": [
        "import warnings\n",
        "warnings.simplefilter(\"ignore\")"
      ]
    },
    {
      "cell_type": "code",
      "source": [
        "import numpy as numpy\n",
        "import pandas as pd"
      ],
      "metadata": {
        "id": "cY3cCnY5rBf4"
      },
      "execution_count": null,
      "outputs": []
    },
    {
      "cell_type": "code",
      "source": [
        "import matplotlib.pyplot as plt\n",
        "%matplotlib inline"
      ],
      "metadata": {
        "id": "kolPo3besGsr"
      },
      "execution_count": null,
      "outputs": []
    },
    {
      "cell_type": "code",
      "source": [
        "dataset=pd.read_csv(\"Admission_Predict_Ver1.1.csv\")"
      ],
      "metadata": {
        "id": "afM02PeUs8qC"
      },
      "execution_count": null,
      "outputs": []
    },
    {
      "cell_type": "code",
      "source": [
        "dataset"
      ],
      "metadata": {
        "id": "64TaHhaFtTWj"
      },
      "execution_count": null,
      "outputs": []
    },
    {
      "cell_type": "code",
      "source": [
        "dataset.shape"
      ],
      "metadata": {
        "id": "gnIN13jeuZMh"
      },
      "execution_count": null,
      "outputs": []
    },
    {
      "cell_type": "code",
      "source": [
        "dataset.head()"
      ],
      "metadata": {
        "id": "ALVwns4cuswA"
      },
      "execution_count": null,
      "outputs": []
    },
    {
      "cell_type": "code",
      "source": [
        "dataset1=dataset.drop(['Serial No.','Serial No.',\t'TOEFL Score','University Rating','SOP','LOR ','CGPA','Research'],axis=1)"
      ],
      "metadata": {
        "id": "YsuH5CsUvHQs"
      },
      "execution_count": null,
      "outputs": []
    },
    {
      "cell_type": "code",
      "source": [
        "dataset1"
      ],
      "metadata": {
        "id": "oarZEej2w4oM"
      },
      "execution_count": null,
      "outputs": []
    },
    {
      "cell_type": "code",
      "source": [
        "import pandas as pd\n",
        "#crete a dataframe\n",
        "data={'A':[10,20,30],'B':[40,50,60]}\n",
        "df=pd.DataFrame(data,index=['row1','row2','row3'])\n",
        "print(df)\n",
        "#access a single row using label\n",
        "print(df.loc['row1'])\n",
        "#access multiple rows using label slicing\n",
        "print(df.loc['row1':'row2'])\n",
        "#access specific rows and columns\n",
        "print(df.loc[['row1', 'row3'],['A']])\n",
        "#use a boolean mask\n",
        "mask=df['A']>20\n",
        "print(df.loc[mask])\n"
      ],
      "metadata": {
        "id": "xfArL1QFxHCk"
      },
      "execution_count": null,
      "outputs": []
    },
    {
      "cell_type": "code",
      "source": [
        "#access a single row using an integer index\n",
        "print(df.iloc[0])\n",
        "#access multiple rows using integer slicing\n",
        "print(df.iloc[0:2])\n",
        "#access specific rows and columns\n",
        "print(df.iloc[[0,2],[0]])\n",
        "#use a boolean mask\n",
        "mask=df.iloc[:,0]>20\n",
        "print(df.iloc[mask.values])"
      ],
      "metadata": {
        "id": "2T9akI1h1Nn2"
      },
      "execution_count": null,
      "outputs": []
    },
    {
      "cell_type": "code",
      "source": [
        "x=dataset1.iloc[:,0].values.reshape(-1,1)\n"
      ],
      "metadata": {
        "id": "Qsg-Htyk3OT-"
      },
      "execution_count": null,
      "outputs": []
    },
    {
      "cell_type": "code",
      "source": [
        "x.shape"
      ],
      "metadata": {
        "id": "6O74Mc_T3tFV"
      },
      "execution_count": null,
      "outputs": []
    },
    {
      "cell_type": "code",
      "source": [
        "y=dataset1.iloc[:,1].values.reshape(-1,1)"
      ],
      "metadata": {
        "id": "erNYq7_638AT"
      },
      "execution_count": null,
      "outputs": []
    },
    {
      "cell_type": "code",
      "source": [
        "y.shape"
      ],
      "metadata": {
        "id": "7azkSOiC4DSs"
      },
      "execution_count": null,
      "outputs": []
    },
    {
      "cell_type": "code",
      "source": [
        "plt.scatter(x,y)\n",
        "plt.show()"
      ],
      "metadata": {
        "id": "xH92QYyZ4Gbu"
      },
      "execution_count": null,
      "outputs": []
    },
    {
      "cell_type": "code",
      "source": [
        "from sklearn.model_selection import train_test_split"
      ],
      "metadata": {
        "id": "A6r99oVR4xv3"
      },
      "execution_count": null,
      "outputs": []
    },
    {
      "cell_type": "code",
      "source": [
        "x_train,x_test,y_train,y_test=train_test_split(x,y,test_size=0.2,random_state=0)"
      ],
      "metadata": {
        "id": "2QneR_IZ49kb"
      },
      "execution_count": null,
      "outputs": []
    },
    {
      "cell_type": "code",
      "source": [
        "x_train.shape"
      ],
      "metadata": {
        "id": "yrT0BhAL7Buy"
      },
      "execution_count": null,
      "outputs": []
    },
    {
      "cell_type": "code",
      "source": [
        "y_train.shape"
      ],
      "metadata": {
        "id": "ESU_iKyV7GH1"
      },
      "execution_count": null,
      "outputs": []
    },
    {
      "cell_type": "code",
      "source": [
        "from sklearn.linear_model import LinearRegression"
      ],
      "metadata": {
        "id": "E_h7BemC7k8E"
      },
      "execution_count": null,
      "outputs": []
    },
    {
      "cell_type": "code",
      "source": [
        "lm=LinearRegression()"
      ],
      "metadata": {
        "id": "DAF42WHy76R8"
      },
      "execution_count": null,
      "outputs": []
    },
    {
      "cell_type": "code",
      "source": [
        "lm.fit(x_train,y_train)"
      ],
      "metadata": {
        "id": "tTqYu7C-8CA-"
      },
      "execution_count": null,
      "outputs": []
    },
    {
      "cell_type": "code",
      "source": [
        "y_pred=lm.predict(x_test)"
      ],
      "metadata": {
        "id": "Gjhcq01_8Sbs"
      },
      "execution_count": null,
      "outputs": []
    },
    {
      "cell_type": "code",
      "source": [
        "y_pred"
      ],
      "metadata": {
        "collapsed": true,
        "id": "2PHtEcuX8YP2"
      },
      "execution_count": null,
      "outputs": []
    },
    {
      "cell_type": "code",
      "source": [],
      "metadata": {
        "id": "nDahewYs-UHs"
      },
      "execution_count": null,
      "outputs": []
    }
  ]
}